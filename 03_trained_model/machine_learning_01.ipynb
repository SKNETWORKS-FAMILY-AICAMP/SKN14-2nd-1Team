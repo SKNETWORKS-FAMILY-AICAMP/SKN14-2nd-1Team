{
 "cells": [
  {
   "cell_type": "code",
   "id": "initial_id",
   "metadata": {
    "collapsed": true,
    "ExecuteTime": {
     "end_time": "2025-06-04T05:45:40.542149Z",
     "start_time": "2025-06-04T05:45:39.368427Z"
    }
   },
   "source": [
    "import pandas as pd\n",
    "from catboost import CatBoostClassifier\n",
    "from sklearn.svm import SVC\n",
    "from sklearn.ensemble import RandomForestClassifier\n",
    "from sklearn.linear_model import LogisticRegression\n",
    "from xgboost import XGBClassifier\n",
    "from sklearn.metrics import classification_report, roc_auc_score\n",
    "# Python이 이미 한 번 임포트한 모듈을 캐시해두기 때문에 리로드 필요\n",
    "import importlib\n",
    "import machine_learning_02\n",
    "importlib.reload(machine_learning_02)\n",
    "from machine_learning_02 import data_load, data_split"
   ],
   "outputs": [],
   "execution_count": 1
  },
  {
   "metadata": {},
   "cell_type": "markdown",
   "source": "#### 1차적으로 best5 모델로 생각되는 모델 돌리기",
   "id": "ac283d7a8cec922e"
  },
  {
   "metadata": {},
   "cell_type": "raw",
   "source": [
    "=== 👍Model BEST 5 선정 이유👍 ===\n",
    "1. CatBoost\n",
    "- 범주형 변수 자동 처리\n",
    "- 결측치 처리 내장\n",
    "- 적은 튜닝으로도 좋은 성능\n",
    "- 앙상블 기반으로 복잡한 관계도 잘 학습\n",
    "\n",
    "2. XGBoost\n",
    "- 앙상블 기반으로 일반화 성능 우수\n",
    "- 불균형 데이터에도 잘 작동\n",
    "- 다양한 하이퍼파라미터 제공으로 세밀한 조정 가능\n",
    "\n",
    "3. 랜덤 포레스트\n",
    "- 직관적이고 강력한 앙상블 모델\n",
    "- 변수 중요도 확인 가능\n",
    "- 결측치에 어느 정도 강건\n",
    "\n",
    "4. 로지스틱 회귀\n",
    "- 빠른 학습, 해석 용이\n",
    "- 베이스라인 모델로 적합\n",
    "- 예측 확률을 해석 가능\n",
    "\n",
    "5. SVM (서포트 벡터 머신)\n",
    "- 고차원 데이터에서 효과적\n",
    "- 결정 경계를 잘 찾지만 대용량 데이터에서는 느릴 수 있음\n",
    "\n",
    "\n",
    "=== ❌상대적으로 덜 적합한 모델로 사용하지 않은 이유❌ ===\n",
    "- 결정 트리 (Decision Tree): 단일 트리는 과적합되기 쉬워 일반화 성능이 낮음\n",
    "- K-NN: 대용량 데이터에서는 성능과 속도 모두 저조\n",
    "- 신경망: 많은 데이터 전처리와 튜닝이 필요하며, 설명력이 떨어짐\n",
    "- 나이브 베이즈: 변수 간 독립성 가정을 위배할 가능성이 높음\n",
    "\n",
    "\n",
    "=== 성능평가지표 ROC AUC(0.5 ~ 1) 추가 이유 ===\n",
    "- 양성과 음성을 얼마나 잘 구분하는지 측정하는 지표로 클래스 불균형 데이터에 강함. (1에 가까울수록 분류 성능이 좋음)\n"
   ],
   "id": "e43fe45abcd58d66"
  },
  {
   "metadata": {
    "ExecuteTime": {
     "end_time": "2025-06-04T05:52:45.126309Z",
     "start_time": "2025-06-04T05:47:32.069699Z"
    }
   },
   "cell_type": "code",
   "source": [
    "class Models:\n",
    "    def __init__(self, X_train, X_test, y_train, y_test):\n",
    "        self.X_train = X_train\n",
    "        self.X_test = X_test\n",
    "        self.y_train = y_train\n",
    "        self.y_test = y_test\n",
    "        self.models = {\n",
    "            \"Logistic Regression\": LogisticRegression(random_state=42),\n",
    "            \"Random Forest\": RandomForestClassifier( random_state=42),\n",
    "            \"SVM\": SVC(probability=True, random_state=42),\n",
    "            \"XGBoost\": XGBClassifier(random_state=42),\n",
    "            \"CatBoost\": CatBoostClassifier(verbose=0, random_state=42)\n",
    "        }\n",
    "        self.results = {}\n",
    "\n",
    "    def fit_and_evaluate(self):\n",
    "        for name, model in self.models.items():\n",
    "            model.fit(self.X_train, self.y_train)\n",
    "            y_pred = model.predict(self.X_test)\n",
    "            y_prob = model.predict_proba(self.X_test)[:, 1]\n",
    "\n",
    "            report = classification_report(self.y_test, y_pred, output_dict=True)\n",
    "            auc_score = roc_auc_score(self.y_test, y_prob)\n",
    "\n",
    "            self.results[name] = {\n",
    "                \"Precision\": report[\"1\"][\"precision\"],\n",
    "                \"Recall\": report[\"1\"][\"recall\"],\n",
    "                \"F1-score\": report[\"1\"][\"f1-score\"],\n",
    "                \"Accuracy\": report[\"accuracy\"],\n",
    "                \"ROC AUC\": auc_score\n",
    "            }\n",
    "\n",
    "    def get_results(self):\n",
    "        return pd.DataFrame(self.results).T.sort_values(\"ROC AUC\", ascending=False)\n",
    "\n",
    "# 데이터 로드\n",
    "data_df = data_load()\n",
    "\n",
    "# 데이터셋 준비\n",
    "# X_train, X_test, y_train, y_test = data_split(data_df, scaler_nm=\"standard\")\n",
    "X_train, X_test, y_train, y_test = data_split(data_df, scaler_nm='quantile')\n",
    "\n",
    "# 모델 학습 및 평가\n",
    "model_runner = Models(X_train, X_test, y_train, y_test)\n",
    "model_runner.fit_and_evaluate()\n",
    "\n",
    "# 결과 출력\n",
    "results_df = model_runner.get_results()\n",
    "print(results_df)"
   ],
   "id": "1ac362b4b31905c6",
   "outputs": [
    {
     "name": "stdout",
     "output_type": "stream",
     "text": [
      "                     Precision    Recall  F1-score  Accuracy   ROC AUC\n",
      "CatBoost              0.861979  0.822566  0.841811  0.828692  0.906262\n",
      "XGBoost               0.862845  0.819757  0.840749  0.827914  0.904124\n",
      "Random Forest         0.850066  0.800718  0.824654  0.811311  0.890397\n",
      "SVM                   0.818511  0.739700  0.777113  0.764874  0.842538\n",
      "Logistic Regression   0.769135  0.774657  0.771886  0.746282  0.825207\n"
     ]
    }
   ],
   "execution_count": 3
  },
  {
   "metadata": {},
   "cell_type": "raw",
   "source": [
    "--결과값---------------------------------------------------------------\n",
    "- 스케일링 버전\n",
    "                     Precision    Recall  F1-score  Accuracy   ROC AUC\n",
    "CatBoost              0.946964  0.941792  0.944371  0.938516  0.978397\n",
    "XGBoost               0.946423  0.945537  0.945980  0.940159  0.978164\n",
    "Random Forest         0.946780  0.938358  0.942550  0.936614  0.976256\n",
    "Logistic Regression   0.849964  0.915886  0.881695  0.863801  0.931560\n",
    "SVM                   0.851464  0.875780  0.863451  0.846506  0.922671\n",
    "\n",
    "\n",
    "- 스케일링 안한 버전\n",
    "                     Precision    Recall  F1-score  Accuracy   ROC AUC\n",
    "CatBoost              0.946964  0.941792  0.944371  0.938516  0.978397\n",
    "XGBoost               0.946423  0.945537  0.945980  0.940159  0.978164\n",
    "Random Forest         0.946780  0.938358  0.942550  0.936614  0.976256\n",
    "Logistic Regression   0.849964  0.915886  0.881695  0.863801  0.931560\n",
    "SVM                   0.851464  0.875780  0.863451  0.846506  0.922671\n",
    "\n",
    "\n",
    "- remaining_contract 칼럼 제거 + 스케일링 버전\n",
    "                     Precision    Recall  F1-score  Accuracy   ROC AUC\n",
    "CatBoost              0.861735  0.819913  0.840304  0.827309  0.905883\n",
    "XGBoost               0.864379  0.817572  0.840324  0.827828  0.905477\n",
    "Random Forest         0.850670  0.802747  0.826014  0.812608  0.890576\n",
    "SVM                   0.801214  0.720818  0.758893  0.746195  0.822489\n",
    "Logistic Regression   0.728006  0.789014  0.757283  0.719734  0.803120\n",
    "\n",
    "\n",
    "- remaining_contract 칼럼 제거 + 스케일링 안한 버전\n",
    "                     Precision    Recall  F1-score  Accuracy   ROC AUC\n",
    "CatBoost              0.861735  0.819913  0.840304  0.827309  0.905883\n",
    "XGBoost               0.864379  0.817572  0.840324  0.827828  0.905477\n",
    "Random Forest         0.850670  0.802747  0.826014  0.812608  0.890576\n",
    "SVM                   0.801214  0.720818  0.758893  0.746195  0.822489\n",
    "Logistic Regression   0.728006  0.789014  0.757283  0.719734  0.803120\n",
    "\n",
    "----------------------------------------------------------------------"
   ],
   "id": "72123a609595353a",
   "outputs": null,
   "execution_count": null
  },
  {
   "metadata": {},
   "cell_type": "markdown",
   "source": [
    "#### 스케일링 + remaining_contract 칼럼 제거X + XGBoost/CatBoost 의 평가지표가 제일 높음\n",
    "#### 그러나, 과적합을 방지하기 위해 remaining_contract 칼럼 제거하여 학습시킬 필요성 있어보임"
   ],
   "id": "bee73c4045a8662a"
  }
 ],
 "metadata": {
  "kernelspec": {
   "display_name": "Python 3",
   "language": "python",
   "name": "python3"
  },
  "language_info": {
   "codemirror_mode": {
    "name": "ipython",
    "version": 2
   },
   "file_extension": ".py",
   "mimetype": "text/x-python",
   "name": "python",
   "nbconvert_exporter": "python",
   "pygments_lexer": "ipython2",
   "version": "2.7.6"
  }
 },
 "nbformat": 4,
 "nbformat_minor": 5
}
